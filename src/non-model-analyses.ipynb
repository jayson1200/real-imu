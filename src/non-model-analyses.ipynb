{
 "cells": [
  {
   "cell_type": "code",
   "id": "initial_id",
   "metadata": {
    "collapsed": true,
    "ExecuteTime": {
     "end_time": "2024-12-14T06:32:26.837561Z",
     "start_time": "2024-12-14T06:32:26.821392Z"
    }
   },
   "source": [
    "import os\n",
    "import csv\n",
    "import torch\n",
    "import torch.nn as nn\n",
    "import torch.optim as optim\n",
    "from torch.optim.lr_scheduler import CosineAnnealingLR\n",
    "import matplotlib.pyplot as plt\n",
    "from torch.utils.data import DataLoader\n",
    "from scipy.ndimage import uniform_filter1d\n",
    "from scipy.signal import butter, filtfilt\n",
    "\n",
    "import numpy as np\n",
    "\n",
    "import re\n",
    "import pickle\n",
    "\n",
    "from dataset import MotionDataset\n",
    "from time_model import TimeModel\n",
    "from tqdm.notebook import tqdm\n",
    "\n",
    "data_path = \"/home/meribejayson/Desktop/Projects/realistic-imu/data/total_capture_data\"\n",
    "subjects = [\"s5\"]\n",
    "\n",
    "minimized_dataset = MotionDataset(data_path, subjects=subjects, dataset_type=\"minimized\", minimize=True)\n",
    "minimized_loader = DataLoader(minimized_dataset, batch_size=1, shuffle=False)\n",
    "\n",
    "orig_dataset = MotionDataset(data_path, subjects=subjects, dataset_type=\"orig\", minimize=False)\n",
    "orig_loader = DataLoader(orig_dataset, batch_size=1, shuffle=False)"
   ],
   "outputs": [],
   "execution_count": 48
  },
  {
   "metadata": {},
   "cell_type": "markdown",
   "source": "## Mean Squared Error of only applying a finite difference",
   "id": "acca1dcb3d5592b8"
  },
  {
   "metadata": {
    "ExecuteTime": {
     "end_time": "2024-12-14T06:32:26.920808Z",
     "start_time": "2024-12-14T06:32:26.883941Z"
    }
   },
   "cell_type": "code",
   "source": [
    "num_exps = 0\n",
    "total = 0\n",
    "\n",
    "for mocap, imu in tqdm(orig_loader):\n",
    "    diff = imu[0, :, :] - mocap[0, :, 0:26:2]\n",
    "    sqr = diff ** 2\n",
    "\n",
    "    num_exps += sqr.shape[0] * sqr.shape[1]\n",
    "\n",
    "    total += torch.sum(sqr)\n",
    "\n",
    "total /= num_exps\n",
    "total.item()"
   ],
   "id": "bcd429de69f8f567",
   "outputs": [
    {
     "data": {
      "text/plain": [
       "  0%|          | 0/5 [00:00<?, ?it/s]"
      ],
      "application/vnd.jupyter.widget-view+json": {
       "version_major": 2,
       "version_minor": 0,
       "model_id": "5cc235ba55274906a442b6b82a22fa6b"
      }
     },
     "metadata": {},
     "output_type": "display_data"
    },
    {
     "data": {
      "text/plain": [
       "12.683247566223145"
      ]
     },
     "execution_count": 49,
     "metadata": {},
     "output_type": "execute_result"
    }
   ],
   "execution_count": 49
  },
  {
   "metadata": {},
   "cell_type": "markdown",
   "source": "## Mean Squared Error with minimized accelerations",
   "id": "9fe844527083d78f"
  },
  {
   "metadata": {
    "ExecuteTime": {
     "end_time": "2024-12-14T06:32:27.019810Z",
     "start_time": "2024-12-14T06:32:26.964833Z"
    }
   },
   "cell_type": "code",
   "source": [
    "num_exps = 0\n",
    "total = 0\n",
    "\n",
    "for mocap, imu in tqdm(minimized_loader):\n",
    "    diff = imu[0, :, :] - mocap[0, :, 0:26:2]\n",
    "    sqr = diff ** 2\n",
    "\n",
    "    num_exps += sqr.shape[0] * sqr.shape[1]\n",
    "\n",
    "    total += torch.sum(sqr)\n",
    "\n",
    "total /= num_exps\n",
    "total.item()"
   ],
   "id": "1ea521ccfb753f8c",
   "outputs": [
    {
     "data": {
      "text/plain": [
       "  0%|          | 0/5 [00:00<?, ?it/s]"
      ],
      "application/vnd.jupyter.widget-view+json": {
       "version_major": 2,
       "version_minor": 0,
       "model_id": "90f11263cb2d41b8b23a0691451d869f"
      }
     },
     "metadata": {},
     "output_type": "display_data"
    },
    {
     "data": {
      "text/plain": [
       "11.728960990905762"
      ]
     },
     "execution_count": 50,
     "metadata": {},
     "output_type": "execute_result"
    }
   ],
   "execution_count": 50
  },
  {
   "metadata": {},
   "cell_type": "markdown",
   "source": "## Mean Squared error with moving average",
   "id": "49042d45e144b509"
  },
  {
   "metadata": {
    "ExecuteTime": {
     "end_time": "2024-12-14T06:32:27.192092Z",
     "start_time": "2024-12-14T06:32:27.133388Z"
    }
   },
   "cell_type": "code",
   "source": [
    "num_exps = 0\n",
    "total = 0\n",
    "\n",
    "for mocap, imu in tqdm(orig_loader):\n",
    "    avg_mocap = uniform_filter1d(mocap[0, :, 0:26:2].numpy(), size=11, mode='nearest', axis=0)\n",
    "    diff = imu[0, :, :] - avg_mocap\n",
    "    sqr = diff ** 2\n",
    "    num_exps += sqr.shape[0] * sqr.shape[1]\n",
    "\n",
    "    total += torch.sum(sqr)\n",
    "\n",
    "total /= num_exps\n",
    "total.item()"
   ],
   "id": "74a38ef2b0208f5a",
   "outputs": [
    {
     "data": {
      "text/plain": [
       "  0%|          | 0/5 [00:00<?, ?it/s]"
      ],
      "application/vnd.jupyter.widget-view+json": {
       "version_major": 2,
       "version_minor": 0,
       "model_id": "f079ac2265bb49649dd0e33ccde76556"
      }
     },
     "metadata": {},
     "output_type": "display_data"
    },
    {
     "data": {
      "text/plain": [
       "13.127171516418457"
      ]
     },
     "execution_count": 51,
     "metadata": {},
     "output_type": "execute_result"
    }
   ],
   "execution_count": 51
  },
  {
   "metadata": {},
   "cell_type": "markdown",
   "source": "## Mean Squared error with butterworth filter",
   "id": "b5ffaea4f8d0f5d3"
  },
  {
   "metadata": {
    "ExecuteTime": {
     "end_time": "2024-12-14T06:32:27.396354Z",
     "start_time": "2024-12-14T06:32:27.320512Z"
    }
   },
   "cell_type": "code",
   "source": [
    "def butterworth_filter(data, cutoff, fs, order=5):\n",
    "    nyquist = 0.5 * fs\n",
    "    normal_cutoff = cutoff / nyquist\n",
    "    b, a = butter(order, normal_cutoff, btype='low', analog=False)\n",
    "    return filtfilt(b, a, data, axis=0)\n",
    "\n",
    "cutoff = 10\n",
    "fs = 60\n",
    "order = 1\n",
    "\n",
    "num_exps = 0\n",
    "total = 0\n",
    "\n",
    "for mocap, imu in tqdm(orig_loader):\n",
    "    avg_mocap = butterworth_filter(mocap[0, :, 0:26:2].numpy(), cutoff, fs, order)\n",
    "    diff = imu[0, :, :] - avg_mocap\n",
    "    sqr = diff ** 2\n",
    "    num_exps += sqr.shape[0] * sqr.shape[1]\n",
    "\n",
    "    total += torch.sum(sqr)\n",
    "\n",
    "total /= num_exps\n",
    "total.item()"
   ],
   "id": "96cfb2e6bd5fb8aa",
   "outputs": [
    {
     "data": {
      "text/plain": [
       "  0%|          | 0/5 [00:00<?, ?it/s]"
      ],
      "application/vnd.jupyter.widget-view+json": {
       "version_major": 2,
       "version_minor": 0,
       "model_id": "562ecdb5515848c48577d04bba3aa595"
      }
     },
     "metadata": {},
     "output_type": "display_data"
    },
    {
     "data": {
      "text/plain": [
       "11.479291288241145"
      ]
     },
     "execution_count": 52,
     "metadata": {},
     "output_type": "execute_result"
    }
   ],
   "execution_count": 52
  },
  {
   "metadata": {},
   "cell_type": "markdown",
   "source": "## Mean Squared Error of finite differenced smpl vertices",
   "id": "b7f8d29b5e9742ab"
  },
  {
   "metadata": {},
   "cell_type": "code",
   "outputs": [],
   "execution_count": null,
   "source": "",
   "id": "7c55e2c2a7b11a22"
  }
 ],
 "metadata": {
  "kernelspec": {
   "display_name": "Python 3",
   "language": "python",
   "name": "python3"
  },
  "language_info": {
   "codemirror_mode": {
    "name": "ipython",
    "version": 2
   },
   "file_extension": ".py",
   "mimetype": "text/x-python",
   "name": "python",
   "nbconvert_exporter": "python",
   "pygments_lexer": "ipython2",
   "version": "2.7.6"
  }
 },
 "nbformat": 4,
 "nbformat_minor": 5
}
