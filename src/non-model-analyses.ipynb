{
 "cells": [
  {
   "cell_type": "code",
   "id": "initial_id",
   "metadata": {
    "collapsed": true,
    "ExecuteTime": {
     "end_time": "2024-12-16T09:54:24.104917Z",
     "start_time": "2024-12-16T09:54:24.098278Z"
    }
   },
   "source": [
    "import os\n",
    "import csv\n",
    "import torch\n",
    "import torch.nn as nn\n",
    "import torch.optim as optim\n",
    "from torch.optim.lr_scheduler import CosineAnnealingLR\n",
    "import matplotlib.pyplot as plt\n",
    "from torch.utils.data import DataLoader\n",
    "from scipy.ndimage import uniform_filter1d\n",
    "from scipy.signal import butter, filtfilt\n",
    "\n",
    "import numpy as np\n",
    "\n",
    "import re\n",
    "import pickle\n",
    "\n",
    "from dataset import MotionDataset\n",
    "from time_model import TimeModel\n",
    "from tqdm.notebook import tqdm\n",
    "\n",
    "data_path = \"/home/meribejayson/Desktop/Projects/realistic-imu/data/total_capture_data\"\n",
    "subjects = [\"s5\"]\n",
    "\n",
    "minimized_dataset = MotionDataset(data_path, subjects=subjects, dataset_type=\"minimized\", minimize=True)\n",
    "minimized_loader = DataLoader(minimized_dataset, batch_size=1, shuffle=False)\n",
    "\n",
    "orig_dataset = MotionDataset(data_path, subjects=subjects, dataset_type=\"orig\", minimize=False)\n",
    "orig_loader = DataLoader(orig_dataset, batch_size=1, shuffle=False)"
   ],
   "outputs": [],
   "execution_count": 10
  },
  {
   "metadata": {},
   "cell_type": "markdown",
   "source": "## Mean Squared Error of only applying a finite difference",
   "id": "acca1dcb3d5592b8"
  },
  {
   "metadata": {
    "ExecuteTime": {
     "end_time": "2024-12-16T09:54:24.152511Z",
     "start_time": "2024-12-16T09:54:24.145269Z"
    }
   },
   "cell_type": "code",
   "source": [
    "num_exps = 0\n",
    "total = 0\n",
    "\n",
    "for mocap, imu in tqdm(orig_loader):\n",
    "    diff = imu[0, :, :] - mocap[0, :, 0:26:2]\n",
    "    sqr = diff ** 2\n",
    "\n",
    "    num_exps += sqr.shape[0] * sqr.shape[1]\n",
    "\n",
    "    total += torch.sum(sqr)\n",
    "\n",
    "total /= num_exps\n",
    "total.item()"
   ],
   "id": "bcd429de69f8f567",
   "outputs": [
    {
     "data": {
      "text/plain": [
       "  0%|          | 0/5 [00:00<?, ?it/s]"
      ],
      "application/vnd.jupyter.widget-view+json": {
       "version_major": 2,
       "version_minor": 0,
       "model_id": "c84071a353fb4b33af18b7a6293df72b"
      }
     },
     "metadata": {},
     "output_type": "display_data"
    },
    {
     "data": {
      "text/plain": [
       "12.683247566223145"
      ]
     },
     "execution_count": 11,
     "metadata": {},
     "output_type": "execute_result"
    }
   ],
   "execution_count": 11
  },
  {
   "metadata": {},
   "cell_type": "markdown",
   "source": "## Mean Squared Error with minimized accelerations",
   "id": "9fe844527083d78f"
  },
  {
   "metadata": {
    "ExecuteTime": {
     "end_time": "2024-12-16T09:54:24.203436Z",
     "start_time": "2024-12-16T09:54:24.195749Z"
    }
   },
   "cell_type": "code",
   "source": [
    "num_exps = 0\n",
    "total = 0\n",
    "\n",
    "for mocap, imu in tqdm(minimized_loader):\n",
    "    diff = imu[0, :, :] - mocap[0, :, 0:26:2]\n",
    "    sqr = diff ** 2\n",
    "\n",
    "    num_exps += sqr.shape[0] * sqr.shape[1]\n",
    "\n",
    "    total += torch.sum(sqr)\n",
    "\n",
    "total /= num_exps\n",
    "total.item()"
   ],
   "id": "1ea521ccfb753f8c",
   "outputs": [
    {
     "data": {
      "text/plain": [
       "  0%|          | 0/5 [00:00<?, ?it/s]"
      ],
      "application/vnd.jupyter.widget-view+json": {
       "version_major": 2,
       "version_minor": 0,
       "model_id": "99c77faeea464af89413691371cfc984"
      }
     },
     "metadata": {},
     "output_type": "display_data"
    },
    {
     "data": {
      "text/plain": [
       "11.728960990905762"
      ]
     },
     "execution_count": 12,
     "metadata": {},
     "output_type": "execute_result"
    }
   ],
   "execution_count": 12
  },
  {
   "metadata": {},
   "cell_type": "markdown",
   "source": "## Mean Squared error with moving average",
   "id": "49042d45e144b509"
  },
  {
   "metadata": {
    "ExecuteTime": {
     "end_time": "2024-12-16T09:54:24.257698Z",
     "start_time": "2024-12-16T09:54:24.248167Z"
    }
   },
   "cell_type": "code",
   "source": [
    "num_exps = 0\n",
    "total = 0\n",
    "\n",
    "for mocap, imu in tqdm(orig_loader):\n",
    "    avg_mocap = uniform_filter1d(mocap[0, :, 0:26:2].numpy(), size=11, mode='nearest', axis=0)\n",
    "    diff = imu[0, :, :] - avg_mocap\n",
    "    sqr = diff ** 2\n",
    "    num_exps += sqr.shape[0] * sqr.shape[1]\n",
    "\n",
    "    total += torch.sum(sqr)\n",
    "\n",
    "total /= num_exps\n",
    "total.item()"
   ],
   "id": "74a38ef2b0208f5a",
   "outputs": [
    {
     "data": {
      "text/plain": [
       "  0%|          | 0/5 [00:00<?, ?it/s]"
      ],
      "application/vnd.jupyter.widget-view+json": {
       "version_major": 2,
       "version_minor": 0,
       "model_id": "cb8ebdb8f14241199a53e0fa925c7762"
      }
     },
     "metadata": {},
     "output_type": "display_data"
    },
    {
     "data": {
      "text/plain": [
       "13.127171516418457"
      ]
     },
     "execution_count": 13,
     "metadata": {},
     "output_type": "execute_result"
    }
   ],
   "execution_count": 13
  },
  {
   "metadata": {},
   "cell_type": "markdown",
   "source": "## Mean Squared error with butterworth filter",
   "id": "b5ffaea4f8d0f5d3"
  },
  {
   "metadata": {
    "ExecuteTime": {
     "end_time": "2024-12-16T09:54:24.311369Z",
     "start_time": "2024-12-16T09:54:24.299622Z"
    }
   },
   "cell_type": "code",
   "source": [
    "def butterworth_filter(data, cutoff, fs, order=5):\n",
    "    nyquist = 0.5 * fs\n",
    "    normal_cutoff = cutoff / nyquist\n",
    "    b, a = butter(order, normal_cutoff, btype='low', analog=False)\n",
    "    return filtfilt(b, a, data, axis=0)\n",
    "\n",
    "cutoff = 10\n",
    "fs = 60\n",
    "order = 1\n",
    "\n",
    "num_exps = 0\n",
    "total = 0\n",
    "\n",
    "for mocap, imu in tqdm(orig_loader):\n",
    "    avg_mocap = butterworth_filter(mocap[0, :, 0:26:2].numpy(), cutoff, fs, order)\n",
    "    diff = imu[0, :, :] - avg_mocap\n",
    "    sqr = diff ** 2\n",
    "    num_exps += sqr.shape[0] * sqr.shape[1]\n",
    "\n",
    "    total += torch.sum(sqr)\n",
    "\n",
    "total /= num_exps\n",
    "total.item()"
   ],
   "id": "96cfb2e6bd5fb8aa",
   "outputs": [
    {
     "data": {
      "text/plain": [
       "  0%|          | 0/5 [00:00<?, ?it/s]"
      ],
      "application/vnd.jupyter.widget-view+json": {
       "version_major": 2,
       "version_minor": 0,
       "model_id": "43b4ff2fdc8d496792518d7cd7a2045d"
      }
     },
     "metadata": {},
     "output_type": "display_data"
    },
    {
     "data": {
      "text/plain": [
       "11.479291288241145"
      ]
     },
     "execution_count": 14,
     "metadata": {},
     "output_type": "execute_result"
    }
   ],
   "execution_count": 14
  },
  {
   "metadata": {},
   "cell_type": "markdown",
   "source": "## Mean Squared Error of model output",
   "id": "b7f8d29b5e9742ab"
  },
  {
   "metadata": {
    "ExecuteTime": {
     "end_time": "2024-12-16T09:54:24.493818Z",
     "start_time": "2024-12-16T09:54:24.412480Z"
    }
   },
   "cell_type": "code",
   "source": [
    "model_path = '/home/meribejayson/Desktop/Projects/realistic-imu/models/model_3.pkl'\n",
    "device = torch.device('cuda' if torch.cuda.is_available() else 'cpu')\n",
    "\n",
    "print(f\"Using device: {device}\")\n",
    "\n",
    "# Load the model using pickle\n",
    "try:\n",
    "    with open(model_path, 'rb') as f:\n",
    "        model = pickle.load(f)\n",
    "    print(\"Model loaded successfully!\")\n",
    "except Exception as e:\n",
    "    print(f\"Error loading the model: {e}\")\n",
    "\n",
    "# Move the model to the GPU (if available)\n",
    "model = model.to(device)\n",
    "print(f\"Model moved to: {device}\")"
   ],
   "id": "7c55e2c2a7b11a22",
   "outputs": [
    {
     "name": "stdout",
     "output_type": "stream",
     "text": [
      "Using device: cuda\n",
      "Model loaded successfully!\n",
      "Model moved to: cuda\n"
     ]
    }
   ],
   "execution_count": 15
  },
  {
   "metadata": {
    "ExecuteTime": {
     "end_time": "2024-12-16T09:55:23.316353Z",
     "start_time": "2024-12-16T09:54:53.734272Z"
    }
   },
   "cell_type": "code",
   "source": [
    "for mocap, imu in tqdm(orig_loader):\n",
    "    avg_mocap = model(mocap.to(device), mocap[0, :, 0:26:2].T.to(device)).cpu().detach().numpy()\n",
    "    diff = imu[0, :, :] - avg_mocap.T\n",
    "    sqr = diff ** 2\n",
    "    num_exps += sqr.shape[0] * sqr.shape[1]\n",
    "\n",
    "    total += torch.sum(sqr)\n",
    "\n",
    "total /= num_exps\n",
    "total.item()"
   ],
   "id": "21f1cf6ea7ededbe",
   "outputs": [
    {
     "data": {
      "text/plain": [
       "  0%|          | 0/5 [00:00<?, ?it/s]"
      ],
      "application/vnd.jupyter.widget-view+json": {
       "version_major": 2,
       "version_minor": 0,
       "model_id": "861a574489964b56b5b94d0f0c62f168"
      }
     },
     "metadata": {},
     "output_type": "display_data"
    },
    {
     "data": {
      "text/plain": [
       "5.062109621374786"
      ]
     },
     "execution_count": 17,
     "metadata": {},
     "output_type": "execute_result"
    }
   ],
   "execution_count": 17
  }
 ],
 "metadata": {
  "kernelspec": {
   "display_name": "Python 3",
   "language": "python",
   "name": "python3"
  },
  "language_info": {
   "codemirror_mode": {
    "name": "ipython",
    "version": 2
   },
   "file_extension": ".py",
   "mimetype": "text/x-python",
   "name": "python",
   "nbconvert_exporter": "python",
   "pygments_lexer": "ipython2",
   "version": "2.7.6"
  }
 },
 "nbformat": 4,
 "nbformat_minor": 5
}
